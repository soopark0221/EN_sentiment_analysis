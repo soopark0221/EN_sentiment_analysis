{
  "nbformat": 4,
  "nbformat_minor": 0,
  "metadata": {
    "colab": {
      "name": "Friends_bert_psy.ipynb",
      "provenance": [],
      "collapsed_sections": [
        "fCw-gAtX9tLO"
      ],
      "mount_file_id": "1TL8TSdcIi38_1REQBR7QyClNRmZUZjPY",
      "authorship_tag": "ABX9TyOes5WE5GzjZfAH9a1lg8Eb",
      "include_colab_link": true
    },
    "kernelspec": {
      "name": "python3",
      "display_name": "Python 3"
    },
    "widgets": {
      "application/vnd.jupyter.widget-state+json": {
        "3a7390c76ca742628a68f1dfbb328eb2": {
          "model_module": "@jupyter-widgets/controls",
          "model_name": "HBoxModel",
          "state": {
            "_view_name": "HBoxView",
            "_dom_classes": [],
            "_model_name": "HBoxModel",
            "_view_module": "@jupyter-widgets/controls",
            "_model_module_version": "1.5.0",
            "_view_count": null,
            "_view_module_version": "1.5.0",
            "box_style": "",
            "layout": "IPY_MODEL_d04a49e3f85848039b738144d0e79605",
            "_model_module": "@jupyter-widgets/controls",
            "children": [
              "IPY_MODEL_a9bdc719c7bd43f2b492c15e6f127611",
              "IPY_MODEL_2a705cdad9d34ebda884e8e48f5ae862"
            ]
          }
        },
        "d04a49e3f85848039b738144d0e79605": {
          "model_module": "@jupyter-widgets/base",
          "model_name": "LayoutModel",
          "state": {
            "_view_name": "LayoutView",
            "grid_template_rows": null,
            "right": null,
            "justify_content": null,
            "_view_module": "@jupyter-widgets/base",
            "overflow": null,
            "_model_module_version": "1.2.0",
            "_view_count": null,
            "flex_flow": null,
            "width": null,
            "min_width": null,
            "border": null,
            "align_items": null,
            "bottom": null,
            "_model_module": "@jupyter-widgets/base",
            "top": null,
            "grid_column": null,
            "overflow_y": null,
            "overflow_x": null,
            "grid_auto_flow": null,
            "grid_area": null,
            "grid_template_columns": null,
            "flex": null,
            "_model_name": "LayoutModel",
            "justify_items": null,
            "grid_row": null,
            "max_height": null,
            "align_content": null,
            "visibility": null,
            "align_self": null,
            "height": null,
            "min_height": null,
            "padding": null,
            "grid_auto_rows": null,
            "grid_gap": null,
            "max_width": null,
            "order": null,
            "_view_module_version": "1.2.0",
            "grid_template_areas": null,
            "object_position": null,
            "object_fit": null,
            "grid_auto_columns": null,
            "margin": null,
            "display": null,
            "left": null
          }
        },
        "a9bdc719c7bd43f2b492c15e6f127611": {
          "model_module": "@jupyter-widgets/controls",
          "model_name": "FloatProgressModel",
          "state": {
            "_view_name": "ProgressView",
            "style": "IPY_MODEL_16762df445444659b6361028bf1f1bfb",
            "_dom_classes": [],
            "description": "Downloading: 100%",
            "_model_name": "FloatProgressModel",
            "bar_style": "success",
            "max": 231508,
            "_view_module": "@jupyter-widgets/controls",
            "_model_module_version": "1.5.0",
            "value": 231508,
            "_view_count": null,
            "_view_module_version": "1.5.0",
            "orientation": "horizontal",
            "min": 0,
            "description_tooltip": null,
            "_model_module": "@jupyter-widgets/controls",
            "layout": "IPY_MODEL_b0c0e86ea3114479917274f60af27190"
          }
        },
        "2a705cdad9d34ebda884e8e48f5ae862": {
          "model_module": "@jupyter-widgets/controls",
          "model_name": "HTMLModel",
          "state": {
            "_view_name": "HTMLView",
            "style": "IPY_MODEL_509bedc2aa8948f8a42eae8a3a4fe751",
            "_dom_classes": [],
            "description": "",
            "_model_name": "HTMLModel",
            "placeholder": "​",
            "_view_module": "@jupyter-widgets/controls",
            "_model_module_version": "1.5.0",
            "value": " 232k/232k [00:00&lt;00:00, 804kB/s]",
            "_view_count": null,
            "_view_module_version": "1.5.0",
            "description_tooltip": null,
            "_model_module": "@jupyter-widgets/controls",
            "layout": "IPY_MODEL_db7ac5999fb44f19ac5325fff7442e06"
          }
        },
        "16762df445444659b6361028bf1f1bfb": {
          "model_module": "@jupyter-widgets/controls",
          "model_name": "ProgressStyleModel",
          "state": {
            "_view_name": "StyleView",
            "_model_name": "ProgressStyleModel",
            "description_width": "initial",
            "_view_module": "@jupyter-widgets/base",
            "_model_module_version": "1.5.0",
            "_view_count": null,
            "_view_module_version": "1.2.0",
            "bar_color": null,
            "_model_module": "@jupyter-widgets/controls"
          }
        },
        "b0c0e86ea3114479917274f60af27190": {
          "model_module": "@jupyter-widgets/base",
          "model_name": "LayoutModel",
          "state": {
            "_view_name": "LayoutView",
            "grid_template_rows": null,
            "right": null,
            "justify_content": null,
            "_view_module": "@jupyter-widgets/base",
            "overflow": null,
            "_model_module_version": "1.2.0",
            "_view_count": null,
            "flex_flow": null,
            "width": null,
            "min_width": null,
            "border": null,
            "align_items": null,
            "bottom": null,
            "_model_module": "@jupyter-widgets/base",
            "top": null,
            "grid_column": null,
            "overflow_y": null,
            "overflow_x": null,
            "grid_auto_flow": null,
            "grid_area": null,
            "grid_template_columns": null,
            "flex": null,
            "_model_name": "LayoutModel",
            "justify_items": null,
            "grid_row": null,
            "max_height": null,
            "align_content": null,
            "visibility": null,
            "align_self": null,
            "height": null,
            "min_height": null,
            "padding": null,
            "grid_auto_rows": null,
            "grid_gap": null,
            "max_width": null,
            "order": null,
            "_view_module_version": "1.2.0",
            "grid_template_areas": null,
            "object_position": null,
            "object_fit": null,
            "grid_auto_columns": null,
            "margin": null,
            "display": null,
            "left": null
          }
        },
        "509bedc2aa8948f8a42eae8a3a4fe751": {
          "model_module": "@jupyter-widgets/controls",
          "model_name": "DescriptionStyleModel",
          "state": {
            "_view_name": "StyleView",
            "_model_name": "DescriptionStyleModel",
            "description_width": "",
            "_view_module": "@jupyter-widgets/base",
            "_model_module_version": "1.5.0",
            "_view_count": null,
            "_view_module_version": "1.2.0",
            "_model_module": "@jupyter-widgets/controls"
          }
        },
        "db7ac5999fb44f19ac5325fff7442e06": {
          "model_module": "@jupyter-widgets/base",
          "model_name": "LayoutModel",
          "state": {
            "_view_name": "LayoutView",
            "grid_template_rows": null,
            "right": null,
            "justify_content": null,
            "_view_module": "@jupyter-widgets/base",
            "overflow": null,
            "_model_module_version": "1.2.0",
            "_view_count": null,
            "flex_flow": null,
            "width": null,
            "min_width": null,
            "border": null,
            "align_items": null,
            "bottom": null,
            "_model_module": "@jupyter-widgets/base",
            "top": null,
            "grid_column": null,
            "overflow_y": null,
            "overflow_x": null,
            "grid_auto_flow": null,
            "grid_area": null,
            "grid_template_columns": null,
            "flex": null,
            "_model_name": "LayoutModel",
            "justify_items": null,
            "grid_row": null,
            "max_height": null,
            "align_content": null,
            "visibility": null,
            "align_self": null,
            "height": null,
            "min_height": null,
            "padding": null,
            "grid_auto_rows": null,
            "grid_gap": null,
            "max_width": null,
            "order": null,
            "_view_module_version": "1.2.0",
            "grid_template_areas": null,
            "object_position": null,
            "object_fit": null,
            "grid_auto_columns": null,
            "margin": null,
            "display": null,
            "left": null
          }
        }
      }
    },
    "accelerator": "GPU"
  },
  "cells": [
    {
      "cell_type": "markdown",
      "metadata": {
        "id": "view-in-github",
        "colab_type": "text"
      },
      "source": [
        "<a href=\"https://colab.research.google.com/github/soopark0221/EN_sentiment_analysis/blob/main/Friends_bert_psy.ipynb\" target=\"_parent\"><img src=\"https://colab.research.google.com/assets/colab-badge.svg\" alt=\"Open In Colab\"/></a>"
      ]
    },
    {
      "cell_type": "markdown",
      "metadata": {
        "id": "R5OjPtCMOoTR"
      },
      "source": [
        "# Data Preparation"
      ]
    },
    {
      "cell_type": "code",
      "metadata": {
        "id": "xTevJeDFzet_",
        "colab": {
          "base_uri": "https://localhost:8080/"
        },
        "outputId": "0667ba01-aad9-4a41-8f54-7144b26078d7"
      },
      "source": [
        "!pip install transformers --quiet"
      ],
      "execution_count": 2,
      "outputs": [
        {
          "output_type": "stream",
          "text": [
            "\u001b[K     |████████████████████████████████| 1.5MB 8.5MB/s \n",
            "\u001b[K     |████████████████████████████████| 2.9MB 51.0MB/s \n",
            "\u001b[K     |████████████████████████████████| 890kB 53.6MB/s \n",
            "\u001b[?25h  Building wheel for sacremoses (setup.py) ... \u001b[?25l\u001b[?25hdone\n"
          ],
          "name": "stdout"
        }
      ]
    },
    {
      "cell_type": "code",
      "metadata": {
        "id": "a2HZoiAlyZa9"
      },
      "source": [
        "import json\n",
        "import pandas as pd\n",
        "import seaborn as sns\n",
        "import matplotlib.pyplot as plt\n",
        "import numpy as np\n",
        "from transformers import BertModel, BertTokenizer\n",
        "from transformers.tokenization_utils_base import PreTrainedTokenizerBase\n",
        "import torch\n",
        "from torch.utils.data import TensorDataset, DataLoader, RandomSampler, SequentialSampler\n",
        "import sklearn.metrics"
      ],
      "execution_count": 3,
      "outputs": []
    },
    {
      "cell_type": "code",
      "metadata": {
        "colab": {
          "base_uri": "https://localhost:8080/"
        },
        "id": "fn4EakQm-xS8",
        "outputId": "ac0a2736-e509-4d0c-f24a-86cb8458a215"
      },
      "source": [
        "traindir = '/content/drive/MyDrive/BERT/friends_train.json' \r\n",
        "devdir = '/content/drive/MyDrive/BERT/friends_dev.json' \r\n",
        "train_data = json.load(open(traindir))\r\n",
        "dev_data = json.load(open(devdir))\r\n",
        "\r\n",
        "print('Train Set : {}, Validation Set: {}'.format(len(train_data), len(dev_data)))"
      ],
      "execution_count": 4,
      "outputs": [
        {
          "output_type": "stream",
          "text": [
            "Train Set : 720, Validation Set: 80\n"
          ],
          "name": "stdout"
        }
      ]
    },
    {
      "cell_type": "markdown",
      "metadata": {
        "id": "YhtgO1C3fj6R"
      },
      "source": [
        "Transform to Dataframe"
      ]
    },
    {
      "cell_type": "code",
      "metadata": {
        "id": "sXdKosGHbgFT"
      },
      "source": [
        "train_d = pd.DataFrame.from_dict(train_data[0], orient = 'columns')\n",
        "dev_d = pd.DataFrame.from_dict(dev_data[0],orient= 'columns')\n",
        "\n",
        "for i in range(1, len(train_data)):\n",
        "  train_d = train_d.append(train_data[i], ignore_index= True)\n",
        "for i in range(1, len(dev_data)):\n",
        "  dev_d = dev_d.append(dev_data[i], ignore_index= True)"
      ],
      "execution_count": 5,
      "outputs": []
    },
    {
      "cell_type": "markdown",
      "metadata": {
        "id": "k0ILw2zNPCVB"
      },
      "source": [
        "Check class labels"
      ]
    },
    {
      "cell_type": "code",
      "metadata": {
        "id": "597jAxfD1jwF",
        "colab": {
          "base_uri": "https://localhost:8080/",
          "height": 512
        },
        "outputId": "8da1daec-913f-4ca3-d2fb-a5ebf79ea0a9"
      },
      "source": [
        "count = train_d['emotion'].value_counts()\n",
        "print(train_d.shape)\n",
        "print(count)\n",
        "\n",
        "x = np.array(count.index)\n",
        "y = np.array(count.values)\n",
        "sns.barplot(x,y)\n",
        "plt.xlabel('Emotion')\n",
        "new = plt.ylabel('Number of sentences')"
      ],
      "execution_count": 6,
      "outputs": [
        {
          "output_type": "stream",
          "text": [
            "(10561, 4)\n",
            "neutral        4752\n",
            "non-neutral    2017\n",
            "joy            1283\n",
            "surprise       1220\n",
            "anger           513\n",
            "sadness         351\n",
            "disgust         240\n",
            "fear            185\n",
            "Name: emotion, dtype: int64\n"
          ],
          "name": "stdout"
        },
        {
          "output_type": "stream",
          "text": [
            "/usr/local/lib/python3.6/dist-packages/seaborn/_decorators.py:43: FutureWarning: Pass the following variables as keyword args: x, y. From version 0.12, the only valid positional argument will be `data`, and passing other arguments without an explicit keyword will result in an error or misinterpretation.\n",
            "  FutureWarning\n"
          ],
          "name": "stderr"
        },
        {
          "output_type": "display_data",
          "data": {
            "image/png": "[encoded data removed]",
            "text/plain": [
              "<Figure size 432x288 with 1 Axes>"
            ]
          },
          "metadata": {
            "tags": [],
            "needs_background": "light"
          }
        }
      ]
    },
    {
      "cell_type": "markdown",
      "metadata": {
        "id": "V0V9L4s5Grrx"
      },
      "source": [
        "Check sentence length "
      ]
    },
    {
      "cell_type": "code",
      "metadata": {
        "colab": {
          "base_uri": "https://localhost:8080/",
          "height": 425
        },
        "id": "X6rSCDi_5fsz",
        "outputId": "5c2ac215-edce-4888-ce7d-656c209879a0"
      },
      "source": [
        "review_len = [len(str(doc)) for doc in train_d.utterance]\r\n",
        "\r\n",
        "pd.Series(review_len).hist()\r\n",
        "plt.show()\r\n",
        "pd.Series(review_len).describe()"
      ],
      "execution_count": 7,
      "outputs": [
        {
          "output_type": "display_data",
          "data": {
            "image/png": "[encoded data removed]",
            "text/plain": [
              "<Figure size 432x288 with 1 Axes>"
            ]
          },
          "metadata": {
            "tags": [],
            "needs_background": "light"
          }
        },
        {
          "output_type": "execute_result",
          "data": {
            "text/plain": [
              "count    10561.000000\n",
              "mean        39.684784\n",
              "std         31.925920\n",
              "min          1.000000\n",
              "25%         15.000000\n",
              "50%         32.000000\n",
              "75%         57.000000\n",
              "max        327.000000\n",
              "dtype: float64"
            ]
          },
          "metadata": {
            "tags": []
          },
          "execution_count": 7
        }
      ]
    },
    {
      "cell_type": "markdown",
      "metadata": {
        "id": "5QbKHMDjOtRg"
      },
      "source": [
        "# Preprocessing"
      ]
    },
    {
      "cell_type": "markdown",
      "metadata": {
        "id": "UCbJL-kmO1mA"
      },
      "source": [
        "Label class into Integer"
      ]
    },
    {
      "cell_type": "code",
      "metadata": {
        "id": "gksFbpYvf5G_"
      },
      "source": [
        "e2i = {'neutral': 0,'non-neutral':1, 'joy':2, 'surprise':3, 'anger':4, 'sadness':5, 'disgust':6, 'fear' : 7} \n",
        "train_d['emotion_id'] = [e2i[item] for item in train_d.emotion] \n",
        "dev_d['emotion_id'] = [e2i[item] for item in dev_d.emotion] "
      ],
      "execution_count": 8,
      "outputs": []
    },
    {
      "cell_type": "code",
      "metadata": {
        "id": "m4zqHLramCgE",
        "colab": {
          "base_uri": "https://localhost:8080/",
          "height": 67,
          "referenced_widgets": [
            "3a7390c76ca742628a68f1dfbb328eb2",
            "d04a49e3f85848039b738144d0e79605",
            "a9bdc719c7bd43f2b492c15e6f127611",
            "2a705cdad9d34ebda884e8e48f5ae862",
            "16762df445444659b6361028bf1f1bfb",
            "b0c0e86ea3114479917274f60af27190",
            "509bedc2aa8948f8a42eae8a3a4fe751",
            "db7ac5999fb44f19ac5325fff7442e06"
          ]
        },
        "outputId": "f54e0b13-3d6d-4496-e3f1-9bcb39a53b9a"
      },
      "source": [
        "tokenizer = BertTokenizer.from_pretrained('bert-base-uncased')\n",
        "x_train = [str(utter) for utter in train_d.utterance]\n",
        "x_dev = [str(utter) for utter in dev_d.utterance]\n",
        "y_train = train_d.emotion_id.values\n",
        "y_dev = dev_d.emotion_id.values"
      ],
      "execution_count": 9,
      "outputs": [
        {
          "output_type": "display_data",
          "data": {
            "application/vnd.jupyter.widget-view+json": {
              "model_id": "3a7390c76ca742628a68f1dfbb328eb2",
              "version_minor": 0,
              "version_major": 2
            },
            "text/plain": [
              "HBox(children=(FloatProgress(value=0.0, description='Downloading', max=231508.0, style=ProgressStyle(descripti…"
            ]
          },
          "metadata": {
            "tags": []
          }
        },
        {
          "output_type": "stream",
          "text": [
            "\n"
          ],
          "name": "stdout"
        }
      ]
    },
    {
      "cell_type": "markdown",
      "metadata": {
        "id": "LRk4tiHI6bxC"
      },
      "source": [
        "Tokenize"
      ]
    },
    {
      "cell_type": "code",
      "metadata": {
        "id": "qaWYkQZZnx1G"
      },
      "source": [
        "def Convert_to_id(data):\n",
        "  ids = []\n",
        "  masks = []\n",
        "  for sent in data:\n",
        "    encoded = tokenizer.encode_plus(\n",
        "        text = sent,\n",
        "        add_special_tokens = True,\n",
        "        padding = 'max_length',\n",
        "        truncation = True,\n",
        "        max_length = 40,\n",
        "        return_attention_mask = True,\n",
        "    )\n",
        "    ids.append(encoded['input_ids'])\n",
        "    masks.append(encoded['attention_mask'])\n",
        "    \n",
        "  return ids, masks\n"
      ],
      "execution_count": 11,
      "outputs": []
    },
    {
      "cell_type": "markdown",
      "metadata": {
        "id": "JGrrOVqQBvBV"
      },
      "source": [
        "Use GPU"
      ]
    },
    {
      "cell_type": "code",
      "metadata": {
        "colab": {
          "base_uri": "https://localhost:8080/"
        },
        "id": "jZu91ugVkNMF",
        "outputId": "9424a389-b6b4-4762-af0d-50c6f2a0d34f"
      },
      "source": [
        "device = torch.device('cuda:0' if torch.cuda.is_available() else 'cpu')\r\n",
        "device"
      ],
      "execution_count": 19,
      "outputs": [
        {
          "output_type": "execute_result",
          "data": {
            "text/plain": [
              "device(type='cuda', index=0)"
            ]
          },
          "metadata": {
            "tags": []
          },
          "execution_count": 19
        }
      ]
    },
    {
      "cell_type": "markdown",
      "metadata": {
        "id": "UJ0xKGIc6YfF"
      },
      "source": [
        "Dataloader"
      ]
    },
    {
      "cell_type": "code",
      "metadata": {
        "id": "UbdPJw3In9tI"
      },
      "source": [
        "def Get_dataloader(x, y, batchsize):\n",
        "  x_tensor = torch.tensor(Convert_to_id(x)[0])\n",
        "  a_tensor = torch.tensor(Convert_to_id(x)[1])\n",
        "  y_tensor = torch.tensor(y, dtype = torch.long)\n",
        "  my_dataset = TensorDataset(x_tensor.to(device), y_tensor.to(device), a_tensor.to(device))\n",
        "  my_dataloader = DataLoader(my_dataset, batch_size = batchsize, sampler = RandomSampler(my_dataset))\n",
        "  return my_dataloader"
      ],
      "execution_count": 12,
      "outputs": []
    },
    {
      "cell_type": "code",
      "metadata": {
        "colab": {
          "base_uri": "https://localhost:8080/"
        },
        "id": "uCJMGoQToEyt",
        "outputId": "c51845ac-8513-496d-cf93-3565e1802bd7"
      },
      "source": [
        "import time\n",
        "\n",
        "batchsize = 16\n",
        "start_time = time.time()\n",
        "train_dataloader = Get_dataloader(x_train, y_train, batchsize)\n",
        "dev_dataloader = Get_dataloader(x_dev, y_dev, batchsize)\n",
        "print(\"--- %s seconds ---\" % (time.time() - start_time))"
      ],
      "execution_count": 20,
      "outputs": [
        {
          "output_type": "stream",
          "text": [
            "--- 6.385773658752441 seconds ---\n"
          ],
          "name": "stdout"
        }
      ]
    },
    {
      "cell_type": "markdown",
      "metadata": {
        "id": "VWNwLpvsB7zF"
      },
      "source": [
        "#Imbalance "
      ]
    },
    {
      "cell_type": "markdown",
      "metadata": {
        "id": "mprSnetyCAWM"
      },
      "source": [
        "Oversampling"
      ]
    },
    {
      "cell_type": "code",
      "metadata": {
        "colab": {
          "base_uri": "https://localhost:8080/"
        },
        "id": "EhRLZLvH3e6p",
        "outputId": "14a01e6d-1818-43f9-9309-0b25656b4904"
      },
      "source": [
        "import imblearn\n",
        "from imblearn.over_sampling import SMOTE\n",
        "\n",
        "oversample = SMOTE()\n",
        "x_resample, y_resample = oversample.fit_resample(Convert_to_id(x_train)[0], y_train)\n",
        "a_resample = []\n",
        "for seq in x_resample:\n",
        "    mask = [int(i>0) for i in seq]\n",
        "    a_resample.append(mask)\n",
        "\n",
        "s = pd.Series(y_resample)\n",
        "s.value_counts()"
      ],
      "execution_count": 9,
      "outputs": [
        {
          "output_type": "stream",
          "text": [
            "/usr/local/lib/python3.6/dist-packages/sklearn/externals/six.py:31: FutureWarning: The module is deprecated in version 0.21 and will be removed in version 0.23 since we've dropped support for Python 2.7. Please rely on the official version of six (https://pypi.org/project/six/).\n",
            "  \"(https://pypi.org/project/six/).\", FutureWarning)\n",
            "/usr/local/lib/python3.6/dist-packages/sklearn/utils/deprecation.py:144: FutureWarning: The sklearn.neighbors.base module is  deprecated in version 0.22 and will be removed in version 0.24. The corresponding classes / functions should instead be imported from sklearn.neighbors. Anything that cannot be imported from sklearn.neighbors is now part of the private API.\n",
            "  warnings.warn(message, FutureWarning)\n",
            "/usr/local/lib/python3.6/dist-packages/sklearn/utils/deprecation.py:87: FutureWarning: Function safe_indexing is deprecated; safe_indexing is deprecated in version 0.22 and will be removed in version 0.24.\n",
            "  warnings.warn(msg, category=FutureWarning)\n",
            "/usr/local/lib/python3.6/dist-packages/sklearn/utils/deprecation.py:87: FutureWarning: Function safe_indexing is deprecated; safe_indexing is deprecated in version 0.22 and will be removed in version 0.24.\n",
            "  warnings.warn(msg, category=FutureWarning)\n",
            "/usr/local/lib/python3.6/dist-packages/sklearn/utils/deprecation.py:87: FutureWarning: Function safe_indexing is deprecated; safe_indexing is deprecated in version 0.22 and will be removed in version 0.24.\n",
            "  warnings.warn(msg, category=FutureWarning)\n",
            "/usr/local/lib/python3.6/dist-packages/sklearn/utils/deprecation.py:87: FutureWarning: Function safe_indexing is deprecated; safe_indexing is deprecated in version 0.22 and will be removed in version 0.24.\n",
            "  warnings.warn(msg, category=FutureWarning)\n",
            "/usr/local/lib/python3.6/dist-packages/sklearn/utils/deprecation.py:87: FutureWarning: Function safe_indexing is deprecated; safe_indexing is deprecated in version 0.22 and will be removed in version 0.24.\n",
            "  warnings.warn(msg, category=FutureWarning)\n",
            "/usr/local/lib/python3.6/dist-packages/sklearn/utils/deprecation.py:87: FutureWarning: Function safe_indexing is deprecated; safe_indexing is deprecated in version 0.22 and will be removed in version 0.24.\n",
            "  warnings.warn(msg, category=FutureWarning)\n",
            "/usr/local/lib/python3.6/dist-packages/sklearn/utils/deprecation.py:87: FutureWarning: Function safe_indexing is deprecated; safe_indexing is deprecated in version 0.22 and will be removed in version 0.24.\n",
            "  warnings.warn(msg, category=FutureWarning)\n"
          ],
          "name": "stderr"
        },
        {
          "output_type": "execute_result",
          "data": {
            "text/plain": [
              "7    4752\n",
              "6    4752\n",
              "5    4752\n",
              "4    4752\n",
              "3    4752\n",
              "2    4752\n",
              "1    4752\n",
              "0    4752\n",
              "dtype: int64"
            ]
          },
          "metadata": {
            "tags": []
          },
          "execution_count": 9
        }
      ]
    },
    {
      "cell_type": "code",
      "metadata": {
        "id": "tCNMg71U-7sy"
      },
      "source": [
        "x_tensor = torch.tensor(x_resample)\n",
        "a_tensor = torch.tensor(a_resample)\n",
        "y_tensor = torch.tensor(y_resample, dtype=torch.long)\n",
        "\n",
        "batchsize = 32\n",
        "train_dataset = TensorDataset(x_tensor.cuda(),y_tensor.cuda(), a_tensor.cuda())\n",
        "train_dataloader = DataLoader(train_dataset, batch_size = 32, sampler = RandomSampler(train_dataset))\n",
        "dev_dataloader = Get_dataloader(x_dev, y_dev, batchsize)"
      ],
      "execution_count": 15,
      "outputs": []
    },
    {
      "cell_type": "markdown",
      "metadata": {
        "id": "Sl83TzXGOcAX"
      },
      "source": [
        "Weighted cross entropy"
      ]
    },
    {
      "cell_type": "code",
      "metadata": {
        "id": "eUoALvpFGx1Y"
      },
      "source": [
        "weights = torch.cuda.FloatTensor([0.278, 0.654, 1.029, 1.082, 2.573, 3.761, 5.501, 7.136])"
      ],
      "execution_count": null,
      "outputs": []
    },
    {
      "cell_type": "markdown",
      "metadata": {
        "id": "cUjjrzWl9Yvk"
      },
      "source": [
        "# Modeling"
      ]
    },
    {
      "cell_type": "code",
      "metadata": {
        "id": "eb7cAE9MOKPv"
      },
      "source": [
        "import torch\n",
        "import torch.nn as nn\n",
        "from transformers import BertModel, BertTokenizer\n",
        "import torch.nn.functional as F\n",
        "\n",
        "class Model(nn.Module):\n",
        "  def __init__(self):\n",
        "    super().__init__()\n",
        "    self.bert_model = BertModel.from_pretrained('bert-base-uncased')\n",
        "    self.linear = torch.nn.Linear(768,8)\n",
        "    #self.drop = torch.nn.Dropout(p=0.5)\n",
        "\n",
        "  def forward(self, input_tensor, attention_masks):\n",
        "    pooler = self.bert_model(input_tensor, attention_masks)[1]\n",
        "    t= self.linear(pooler)\n",
        "    return t"
      ],
      "execution_count": 21,
      "outputs": []
    },
    {
      "cell_type": "markdown",
      "metadata": {
        "id": "xQQasPcPLRHG"
      },
      "source": [
        "#Training"
      ]
    },
    {
      "cell_type": "code",
      "metadata": {
        "colab": {
          "base_uri": "https://localhost:8080/"
        },
        "id": "FJ_kLDXD_pz6",
        "outputId": "7676ceb2-cb8d-44be-dfe2-72d201022c46"
      },
      "source": [
        "model = Model()\n",
        "model.cuda()"
      ],
      "execution_count": 22,
      "outputs": [
        {
          "output_type": "execute_result",
          "data": {
            "text/plain": [
              "Model(\n",
              "  (bert_model): BertModel(\n",
              "    (embeddings): BertEmbeddings(\n",
              "      (word_embeddings): Embedding(30522, 768, padding_idx=0)\n",
              "      (position_embeddings): Embedding(512, 768)\n",
              "      (token_type_embeddings): Embedding(2, 768)\n",
              "      (LayerNorm): LayerNorm((768,), eps=1e-12, elementwise_affine=True)\n",
              "      (dropout): Dropout(p=0.1, inplace=False)\n",
              "    )\n",
              "    (encoder): BertEncoder(\n",
              "      (layer): ModuleList(\n",
              "        (0): BertLayer(\n",
              "          (attention): BertAttention(\n",
              "            (self): BertSelfAttention(\n",
              "              (query): Linear(in_features=768, out_features=768, bias=True)\n",
              "              (key): Linear(in_features=768, out_features=768, bias=True)\n",
              "              (value): Linear(in_features=768, out_features=768, bias=True)\n",
              "              (dropout): Dropout(p=0.1, inplace=False)\n",
              "            )\n",
              "            (output): BertSelfOutput(\n",
              "              (dense): Linear(in_features=768, out_features=768, bias=True)\n",
              "              (LayerNorm): LayerNorm((768,), eps=1e-12, elementwise_affine=True)\n",
              "              (dropout): Dropout(p=0.1, inplace=False)\n",
              "            )\n",
              "          )\n",
              "          (intermediate): BertIntermediate(\n",
              "            (dense): Linear(in_features=768, out_features=3072, bias=True)\n",
              "          )\n",
              "          (output): BertOutput(\n",
              "            (dense): Linear(in_features=3072, out_features=768, bias=True)\n",
              "            (LayerNorm): LayerNorm((768,), eps=1e-12, elementwise_affine=True)\n",
              "            (dropout): Dropout(p=0.1, inplace=False)\n",
              "          )\n",
              "        )\n",
              "        (1): BertLayer(\n",
              "          (attention): BertAttention(\n",
              "            (self): BertSelfAttention(\n",
              "              (query): Linear(in_features=768, out_features=768, bias=True)\n",
              "              (key): Linear(in_features=768, out_features=768, bias=True)\n",
              "              (value): Linear(in_features=768, out_features=768, bias=True)\n",
              "              (dropout): Dropout(p=0.1, inplace=False)\n",
              "            )\n",
              "            (output): BertSelfOutput(\n",
              "              (dense): Linear(in_features=768, out_features=768, bias=True)\n",
              "              (LayerNorm): LayerNorm((768,), eps=1e-12, elementwise_affine=True)\n",
              "              (dropout): Dropout(p=0.1, inplace=False)\n",
              "            )\n",
              "          )\n",
              "          (intermediate): BertIntermediate(\n",
              "            (dense): Linear(in_features=768, out_features=3072, bias=True)\n",
              "          )\n",
              "          (output): BertOutput(\n",
              "            (dense): Linear(in_features=3072, out_features=768, bias=True)\n",
              "            (LayerNorm): LayerNorm((768,), eps=1e-12, elementwise_affine=True)\n",
              "            (dropout): Dropout(p=0.1, inplace=False)\n",
              "          )\n",
              "        )\n",
              "        (2): BertLayer(\n",
              "          (attention): BertAttention(\n",
              "            (self): BertSelfAttention(\n",
              "              (query): Linear(in_features=768, out_features=768, bias=True)\n",
              "              (key): Linear(in_features=768, out_features=768, bias=True)\n",
              "              (value): Linear(in_features=768, out_features=768, bias=True)\n",
              "              (dropout): Dropout(p=0.1, inplace=False)\n",
              "            )\n",
              "            (output): BertSelfOutput(\n",
              "              (dense): Linear(in_features=768, out_features=768, bias=True)\n",
              "              (LayerNorm): LayerNorm((768,), eps=1e-12, elementwise_affine=True)\n",
              "              (dropout): Dropout(p=0.1, inplace=False)\n",
              "            )\n",
              "          )\n",
              "          (intermediate): BertIntermediate(\n",
              "            (dense): Linear(in_features=768, out_features=3072, bias=True)\n",
              "          )\n",
              "          (output): BertOutput(\n",
              "            (dense): Linear(in_features=3072, out_features=768, bias=True)\n",
              "            (LayerNorm): LayerNorm((768,), eps=1e-12, elementwise_affine=True)\n",
              "            (dropout): Dropout(p=0.1, inplace=False)\n",
              "          )\n",
              "        )\n",
              "        (3): BertLayer(\n",
              "          (attention): BertAttention(\n",
              "            (self): BertSelfAttention(\n",
              "              (query): Linear(in_features=768, out_features=768, bias=True)\n",
              "              (key): Linear(in_features=768, out_features=768, bias=True)\n",
              "              (value): Linear(in_features=768, out_features=768, bias=True)\n",
              "              (dropout): Dropout(p=0.1, inplace=False)\n",
              "            )\n",
              "            (output): BertSelfOutput(\n",
              "              (dense): Linear(in_features=768, out_features=768, bias=True)\n",
              "              (LayerNorm): LayerNorm((768,), eps=1e-12, elementwise_affine=True)\n",
              "              (dropout): Dropout(p=0.1, inplace=False)\n",
              "            )\n",
              "          )\n",
              "          (intermediate): BertIntermediate(\n",
              "            (dense): Linear(in_features=768, out_features=3072, bias=True)\n",
              "          )\n",
              "          (output): BertOutput(\n",
              "            (dense): Linear(in_features=3072, out_features=768, bias=True)\n",
              "            (LayerNorm): LayerNorm((768,), eps=1e-12, elementwise_affine=True)\n",
              "            (dropout): Dropout(p=0.1, inplace=False)\n",
              "          )\n",
              "        )\n",
              "        (4): BertLayer(\n",
              "          (attention): BertAttention(\n",
              "            (self): BertSelfAttention(\n",
              "              (query): Linear(in_features=768, out_features=768, bias=True)\n",
              "              (key): Linear(in_features=768, out_features=768, bias=True)\n",
              "              (value): Linear(in_features=768, out_features=768, bias=True)\n",
              "              (dropout): Dropout(p=0.1, inplace=False)\n",
              "            )\n",
              "            (output): BertSelfOutput(\n",
              "              (dense): Linear(in_features=768, out_features=768, bias=True)\n",
              "              (LayerNorm): LayerNorm((768,), eps=1e-12, elementwise_affine=True)\n",
              "              (dropout): Dropout(p=0.1, inplace=False)\n",
              "            )\n",
              "          )\n",
              "          (intermediate): BertIntermediate(\n",
              "            (dense): Linear(in_features=768, out_features=3072, bias=True)\n",
              "          )\n",
              "          (output): BertOutput(\n",
              "            (dense): Linear(in_features=3072, out_features=768, bias=True)\n",
              "            (LayerNorm): LayerNorm((768,), eps=1e-12, elementwise_affine=True)\n",
              "            (dropout): Dropout(p=0.1, inplace=False)\n",
              "          )\n",
              "        )\n",
              "        (5): BertLayer(\n",
              "          (attention): BertAttention(\n",
              "            (self): BertSelfAttention(\n",
              "              (query): Linear(in_features=768, out_features=768, bias=True)\n",
              "              (key): Linear(in_features=768, out_features=768, bias=True)\n",
              "              (value): Linear(in_features=768, out_features=768, bias=True)\n",
              "              (dropout): Dropout(p=0.1, inplace=False)\n",
              "            )\n",
              "            (output): BertSelfOutput(\n",
              "              (dense): Linear(in_features=768, out_features=768, bias=True)\n",
              "              (LayerNorm): LayerNorm((768,), eps=1e-12, elementwise_affine=True)\n",
              "              (dropout): Dropout(p=0.1, inplace=False)\n",
              "            )\n",
              "          )\n",
              "          (intermediate): BertIntermediate(\n",
              "            (dense): Linear(in_features=768, out_features=3072, bias=True)\n",
              "          )\n",
              "          (output): BertOutput(\n",
              "            (dense): Linear(in_features=3072, out_features=768, bias=True)\n",
              "            (LayerNorm): LayerNorm((768,), eps=1e-12, elementwise_affine=True)\n",
              "            (dropout): Dropout(p=0.1, inplace=False)\n",
              "          )\n",
              "        )\n",
              "        (6): BertLayer(\n",
              "          (attention): BertAttention(\n",
              "            (self): BertSelfAttention(\n",
              "              (query): Linear(in_features=768, out_features=768, bias=True)\n",
              "              (key): Linear(in_features=768, out_features=768, bias=True)\n",
              "              (value): Linear(in_features=768, out_features=768, bias=True)\n",
              "              (dropout): Dropout(p=0.1, inplace=False)\n",
              "            )\n",
              "            (output): BertSelfOutput(\n",
              "              (dense): Linear(in_features=768, out_features=768, bias=True)\n",
              "              (LayerNorm): LayerNorm((768,), eps=1e-12, elementwise_affine=True)\n",
              "              (dropout): Dropout(p=0.1, inplace=False)\n",
              "            )\n",
              "          )\n",
              "          (intermediate): BertIntermediate(\n",
              "            (dense): Linear(in_features=768, out_features=3072, bias=True)\n",
              "          )\n",
              "          (output): BertOutput(\n",
              "            (dense): Linear(in_features=3072, out_features=768, bias=True)\n",
              "            (LayerNorm): LayerNorm((768,), eps=1e-12, elementwise_affine=True)\n",
              "            (dropout): Dropout(p=0.1, inplace=False)\n",
              "          )\n",
              "        )\n",
              "        (7): BertLayer(\n",
              "          (attention): BertAttention(\n",
              "            (self): BertSelfAttention(\n",
              "              (query): Linear(in_features=768, out_features=768, bias=True)\n",
              "              (key): Linear(in_features=768, out_features=768, bias=True)\n",
              "              (value): Linear(in_features=768, out_features=768, bias=True)\n",
              "              (dropout): Dropout(p=0.1, inplace=False)\n",
              "            )\n",
              "            (output): BertSelfOutput(\n",
              "              (dense): Linear(in_features=768, out_features=768, bias=True)\n",
              "              (LayerNorm): LayerNorm((768,), eps=1e-12, elementwise_affine=True)\n",
              "              (dropout): Dropout(p=0.1, inplace=False)\n",
              "            )\n",
              "          )\n",
              "          (intermediate): BertIntermediate(\n",
              "            (dense): Linear(in_features=768, out_features=3072, bias=True)\n",
              "          )\n",
              "          (output): BertOutput(\n",
              "            (dense): Linear(in_features=3072, out_features=768, bias=True)\n",
              "            (LayerNorm): LayerNorm((768,), eps=1e-12, elementwise_affine=True)\n",
              "            (dropout): Dropout(p=0.1, inplace=False)\n",
              "          )\n",
              "        )\n",
              "        (8): BertLayer(\n",
              "          (attention): BertAttention(\n",
              "            (self): BertSelfAttention(\n",
              "              (query): Linear(in_features=768, out_features=768, bias=True)\n",
              "              (key): Linear(in_features=768, out_features=768, bias=True)\n",
              "              (value): Linear(in_features=768, out_features=768, bias=True)\n",
              "              (dropout): Dropout(p=0.1, inplace=False)\n",
              "            )\n",
              "            (output): BertSelfOutput(\n",
              "              (dense): Linear(in_features=768, out_features=768, bias=True)\n",
              "              (LayerNorm): LayerNorm((768,), eps=1e-12, elementwise_affine=True)\n",
              "              (dropout): Dropout(p=0.1, inplace=False)\n",
              "            )\n",
              "          )\n",
              "          (intermediate): BertIntermediate(\n",
              "            (dense): Linear(in_features=768, out_features=3072, bias=True)\n",
              "          )\n",
              "          (output): BertOutput(\n",
              "            (dense): Linear(in_features=3072, out_features=768, bias=True)\n",
              "            (LayerNorm): LayerNorm((768,), eps=1e-12, elementwise_affine=True)\n",
              "            (dropout): Dropout(p=0.1, inplace=False)\n",
              "          )\n",
              "        )\n",
              "        (9): BertLayer(\n",
              "          (attention): BertAttention(\n",
              "            (self): BertSelfAttention(\n",
              "              (query): Linear(in_features=768, out_features=768, bias=True)\n",
              "              (key): Linear(in_features=768, out_features=768, bias=True)\n",
              "              (value): Linear(in_features=768, out_features=768, bias=True)\n",
              "              (dropout): Dropout(p=0.1, inplace=False)\n",
              "            )\n",
              "            (output): BertSelfOutput(\n",
              "              (dense): Linear(in_features=768, out_features=768, bias=True)\n",
              "              (LayerNorm): LayerNorm((768,), eps=1e-12, elementwise_affine=True)\n",
              "              (dropout): Dropout(p=0.1, inplace=False)\n",
              "            )\n",
              "          )\n",
              "          (intermediate): BertIntermediate(\n",
              "            (dense): Linear(in_features=768, out_features=3072, bias=True)\n",
              "          )\n",
              "          (output): BertOutput(\n",
              "            (dense): Linear(in_features=3072, out_features=768, bias=True)\n",
              "            (LayerNorm): LayerNorm((768,), eps=1e-12, elementwise_affine=True)\n",
              "            (dropout): Dropout(p=0.1, inplace=False)\n",
              "          )\n",
              "        )\n",
              "        (10): BertLayer(\n",
              "          (attention): BertAttention(\n",
              "            (self): BertSelfAttention(\n",
              "              (query): Linear(in_features=768, out_features=768, bias=True)\n",
              "              (key): Linear(in_features=768, out_features=768, bias=True)\n",
              "              (value): Linear(in_features=768, out_features=768, bias=True)\n",
              "              (dropout): Dropout(p=0.1, inplace=False)\n",
              "            )\n",
              "            (output): BertSelfOutput(\n",
              "              (dense): Linear(in_features=768, out_features=768, bias=True)\n",
              "              (LayerNorm): LayerNorm((768,), eps=1e-12, elementwise_affine=True)\n",
              "              (dropout): Dropout(p=0.1, inplace=False)\n",
              "            )\n",
              "          )\n",
              "          (intermediate): BertIntermediate(\n",
              "            (dense): Linear(in_features=768, out_features=3072, bias=True)\n",
              "          )\n",
              "          (output): BertOutput(\n",
              "            (dense): Linear(in_features=3072, out_features=768, bias=True)\n",
              "            (LayerNorm): LayerNorm((768,), eps=1e-12, elementwise_affine=True)\n",
              "            (dropout): Dropout(p=0.1, inplace=False)\n",
              "          )\n",
              "        )\n",
              "        (11): BertLayer(\n",
              "          (attention): BertAttention(\n",
              "            (self): BertSelfAttention(\n",
              "              (query): Linear(in_features=768, out_features=768, bias=True)\n",
              "              (key): Linear(in_features=768, out_features=768, bias=True)\n",
              "              (value): Linear(in_features=768, out_features=768, bias=True)\n",
              "              (dropout): Dropout(p=0.1, inplace=False)\n",
              "            )\n",
              "            (output): BertSelfOutput(\n",
              "              (dense): Linear(in_features=768, out_features=768, bias=True)\n",
              "              (LayerNorm): LayerNorm((768,), eps=1e-12, elementwise_affine=True)\n",
              "              (dropout): Dropout(p=0.1, inplace=False)\n",
              "            )\n",
              "          )\n",
              "          (intermediate): BertIntermediate(\n",
              "            (dense): Linear(in_features=768, out_features=3072, bias=True)\n",
              "          )\n",
              "          (output): BertOutput(\n",
              "            (dense): Linear(in_features=3072, out_features=768, bias=True)\n",
              "            (LayerNorm): LayerNorm((768,), eps=1e-12, elementwise_affine=True)\n",
              "            (dropout): Dropout(p=0.1, inplace=False)\n",
              "          )\n",
              "        )\n",
              "      )\n",
              "    )\n",
              "    (pooler): BertPooler(\n",
              "      (dense): Linear(in_features=768, out_features=768, bias=True)\n",
              "      (activation): Tanh()\n",
              "    )\n",
              "  )\n",
              "  (linear): Linear(in_features=768, out_features=8, bias=True)\n",
              ")"
            ]
          },
          "metadata": {
            "tags": []
          },
          "execution_count": 22
        }
      ]
    },
    {
      "cell_type": "code",
      "metadata": {
        "id": "SARz5b_FqejI"
      },
      "source": [
        "from torch.optim.lr_scheduler import StepLR\r\n",
        "\r\n",
        "lr = 0.00001\r\n",
        "optimizer = torch.optim.AdamW(model.parameters(), lr=lr) \r\n",
        "scheduler = StepLR(optimizer, step_size=1, gamma=0.5)\r\n",
        "epochs = 4\r\n",
        "criterion = torch.nn.CrossEntropyLoss() "
      ],
      "execution_count": 23,
      "outputs": []
    },
    {
      "cell_type": "code",
      "metadata": {
        "id": "3aF2chft_-NG",
        "colab": {
          "base_uri": "https://localhost:8080/"
        },
        "outputId": "531fdef0-951d-45c0-f1d0-1f00804f7536"
      },
      "source": [
        "for epoch in range(epochs):\n",
        "  train_loss = 0\n",
        "  for x,y,a in train_dataloader:\n",
        "    model.train()\n",
        "    out = model(x,a)\n",
        "    loss = criterion(out, y)\n",
        "    loss.backward() #backprop. gradient calc\n",
        "    optimizer.step() #update w\n",
        "    optimizer.zero_grad() #reset gradient\n",
        "    train_loss += loss.item()\n",
        "  avg_train_loss = train_loss/len(train_data)\n",
        "  print('epoch : {}'.format(epoch+1))\n",
        "  print('avg train loss : {}'.format(avg_train_loss))\n",
        "  scheduler.step()\n",
        "  print('LR:', scheduler.get_last_lr())\n",
        "\n",
        "  correct, total, test_loss = 0, 0, 0\n",
        "  pred = []\n",
        "  true = []\n",
        "  for x_t,y_t,a_t in dev_dataloader:\n",
        "    model.eval()\n",
        "    with torch.no_grad():\n",
        "      testout = model(x_t,a_t)\n",
        "      testloss = criterion(testout, y_t)\n",
        "      _,predicted = torch.max(testout,dim=1) #torch.max returns (value, index)\n",
        "      pred += predicted.tolist()\n",
        "      true += y_t.tolist()\n",
        "      total += y_t.size(0) \n",
        "      correct += (predicted == y_t).sum().item()\n",
        "      test_loss += testloss.item()\n",
        "  accuracy = correct/total #for multi-class, mirco-f1/recall/precision are equal to accuracy\n",
        "  avg_test_loss = test_loss/len(dev_data)\n",
        "  print('avg test loss : {}'.format(avg_test_loss))\n",
        "  print('accuracy: {}'.format(accuracy))\n",
        "  print('----------------------------------------')"
      ],
      "execution_count": 24,
      "outputs": [
        {
          "output_type": "stream",
          "text": [
            "epoch : 1\n",
            "avg train loss : 1.180066956165764\n",
            "LR: [5e-06]\n",
            "avg test loss : 1.124760864675045\n",
            "accuracy: 0.5908319185059423\n",
            "----------------------------------------\n",
            "epoch : 2\n",
            "avg train loss : 0.9457878568934069\n",
            "LR: [2.5e-06]\n",
            "avg test loss : 1.0909121237695216\n",
            "accuracy: 0.6018675721561969\n",
            "----------------------------------------\n",
            "epoch : 3\n",
            "avg train loss : 0.8479043774306774\n",
            "LR: [1.25e-06]\n",
            "avg test loss : 1.0943416401743888\n",
            "accuracy: 0.5933786078098472\n",
            "----------------------------------------\n",
            "epoch : 4\n",
            "avg train loss : 0.7996430437184042\n",
            "LR: [6.25e-07]\n",
            "avg test loss : 1.1024621434509754\n",
            "accuracy: 0.5967741935483871\n",
            "----------------------------------------\n"
          ],
          "name": "stdout"
        }
      ]
    },
    {
      "cell_type": "code",
      "metadata": {
        "colab": {
          "base_uri": "https://localhost:8080/",
          "height": 283
        },
        "id": "txwbad_nu2eT",
        "outputId": "109b65a0-b1b4-4f3f-c535-72d74cff5c97"
      },
      "source": [
        "from sklearn.metrics import multilabel_confusion_matrix\r\n",
        "from sklearn.metrics import confusion_matrix\r\n",
        "import seaborn as sns\r\n",
        "\r\n",
        "matrix = confusion_matrix(true, pred, labels=[0,1,2,3,4,5,6,7])\r\n",
        "matrix_norm = matrix.astype('float')/matrix.sum(axis=1)[:, np.newaxis]\r\n",
        "sns.heatmap(matrix_norm, cmap=sns.light_palette(\"seagreen\", as_cmap=True), annot=True)"
      ],
      "execution_count": 25,
      "outputs": [
        {
          "output_type": "execute_result",
          "data": {
            "text/plain": [
              "<matplotlib.axes._subplots.AxesSubplot at 0x7f82ff1d6b00>"
            ]
          },
          "metadata": {
            "tags": []
          },
          "execution_count": 25
        },
        {
          "output_type": "display_data",
          "data": {
            "image/png": "[encoded data removed]",
            "text/plain": [
              "<Figure size 432x288 with 2 Axes>"
            ]
          },
          "metadata": {
            "tags": [],
            "needs_background": "light"
          }
        }
      ]
    },
    {
      "cell_type": "markdown",
      "metadata": {
        "id": "Srglut3_PdQZ"
      },
      "source": [
        "#Test"
      ]
    },
    {
      "cell_type": "code",
      "metadata": {
        "id": "qGhLtV9GmSuO"
      },
      "source": [
        "test = pd.read_csv('/content/drive/MyDrive/BERT/en_data.csv')\r\n",
        "x_test = [utter for utter in test.utterance]"
      ],
      "execution_count": 26,
      "outputs": []
    },
    {
      "cell_type": "code",
      "metadata": {
        "id": "wJO7Cc38zU8L"
      },
      "source": [
        "pred_list = []\r\n",
        "i2e = ['neutral', 'non-neutral','joy','surprise','anger', 'sadness','disgust','fear']\r\n",
        "\r\n",
        "for idx, utter in enumerate(x_test):\r\n",
        "  encoded = tokenizer.encode_plus(\r\n",
        "        text = utter,\r\n",
        "        add_special_tokens = True,\r\n",
        "        padding = 'max_length',\r\n",
        "        truncation = True,\r\n",
        "        max_length = 40,\r\n",
        "        return_attention_mask = True,\r\n",
        "        return_tensors = 'pt'    \r\n",
        "    )\r\n",
        "  id = encoded['input_ids'].to(device)\r\n",
        "  mask = encoded['attention_mask'].to(device)\r\n",
        "  output = model(id, mask)\r\n",
        "  _, predicted = torch.max(output, dim=1)\r\n",
        "\r\n",
        "  pred_list.append(i2e[predicted])"
      ],
      "execution_count": 30,
      "outputs": []
    },
    {
      "cell_type": "code",
      "metadata": {
        "id": "4myW_eHOmTEi"
      },
      "source": [
        "pred = pd.DataFrame(pred_list, columns=['Predicted'])\r\n",
        "pred.to_csv('/content/drive/MyDrive/BERT/sample.csv')"
      ],
      "execution_count": 31,
      "outputs": []
    },
    {
      "cell_type": "markdown",
      "metadata": {
        "id": "aTSMnblUEyn3"
      },
      "source": [
        "Model Save"
      ]
    },
    {
      "cell_type": "code",
      "metadata": {
        "id": "QVjrP0M8LTiJ"
      },
      "source": [
        "model_path = '/content/drive/MyDrive/BERT/friends_weights.pt'\r\n",
        "torch.save(model.state_dict(),model_path)"
      ],
      "execution_count": 32,
      "outputs": []
    },
    {
      "cell_type": "markdown",
      "metadata": {
        "id": "yfQ2OXvqF9Xj"
      },
      "source": [
        "Model Load"
      ]
    },
    {
      "cell_type": "code",
      "metadata": {
        "id": "JIOHxp58F5vP"
      },
      "source": [
        "#model = Model()\r\n",
        "#model.load_state_dict(torch.load(model_path))\r\n",
        "#model.eval()"
      ],
      "execution_count": 34,
      "outputs": []
    }
  ]
}